{
 "cells": [
  {
   "cell_type": "code",
   "execution_count": 1,
   "metadata": {},
   "outputs": [],
   "source": [
    "%matplotlib inline\n",
    "%load_ext autoreload\n",
    "% autoreload 2"
   ]
  },
  {
   "cell_type": "code",
   "execution_count": 2,
   "metadata": {},
   "outputs": [],
   "source": [
    "import numpy as np\n",
    "import pandas  as pd\n",
    "np.random.seed(151)"
   ]
  },
  {
   "cell_type": "code",
   "execution_count": 28,
   "metadata": {},
   "outputs": [],
   "source": [
    "from chainer import Chain,Variable\n",
    "import chainer.links as L\n",
    "import chainer.functions as F\n",
    "from chainer.datasets import TupleDataset\n",
    "from chainer.iterators import SerialIterator\n",
    "from chainer.training import StandardUpdater,Trainer\n",
    "from chainer.training.extensions import PrintReport,LogReport,Evaluator\n",
    "from sklearn.preprocessing import StandardScaler\n",
    "from chainer.datasets import TupleDataset\n",
    "from chainer.optimizers import Adam\n",
    "from sklearn.metrics import classification_report"
   ]
  },
  {
   "cell_type": "markdown",
   "metadata": {},
   "source": [
    "## データの読み込み"
   ]
  },
  {
   "cell_type": "code",
   "execution_count": 4,
   "metadata": {},
   "outputs": [],
   "source": [
    "train = pd.read_csv(\"data/train.csv\")\n",
    "dev = pd.read_csv(\"data/dev.csv\")\n",
    "test = pd.read_csv(\"data/test.csv\")"
   ]
  },
  {
   "cell_type": "markdown",
   "metadata": {},
   "source": [
    "## データの確認"
   ]
  },
  {
   "cell_type": "code",
   "execution_count": 5,
   "metadata": {},
   "outputs": [
    {
     "data": {
      "text/html": [
       "<div>\n",
       "<style scoped>\n",
       "    .dataframe tbody tr th:only-of-type {\n",
       "        vertical-align: middle;\n",
       "    }\n",
       "\n",
       "    .dataframe tbody tr th {\n",
       "        vertical-align: top;\n",
       "    }\n",
       "\n",
       "    .dataframe thead th {\n",
       "        text-align: right;\n",
       "    }\n",
       "</style>\n",
       "<table border=\"1\" class=\"dataframe\">\n",
       "  <thead>\n",
       "    <tr style=\"text-align: right;\">\n",
       "      <th></th>\n",
       "      <th>tBodyAcc-mean()-X</th>\n",
       "      <th>tBodyAcc-mean()-Y</th>\n",
       "      <th>tBodyAcc-mean()-Z</th>\n",
       "      <th>tBodyAcc-std()-X</th>\n",
       "      <th>tBodyAcc-std()-Y</th>\n",
       "      <th>tBodyAcc-std()-Z</th>\n",
       "      <th>tBodyAcc-mad()-X</th>\n",
       "      <th>tBodyAcc-mad()-Y</th>\n",
       "      <th>tBodyAcc-mad()-Z</th>\n",
       "      <th>tBodyAcc-max()-X</th>\n",
       "      <th>...</th>\n",
       "      <th>fBodyBodyGyroJerkMag-kurtosis()</th>\n",
       "      <th>angle(tBodyAccMean,gravity)</th>\n",
       "      <th>angle(tBodyAccJerkMean),gravityMean)</th>\n",
       "      <th>angle(tBodyGyroMean,gravityMean)</th>\n",
       "      <th>angle(tBodyGyroJerkMean,gravityMean)</th>\n",
       "      <th>angle(X,gravityMean)</th>\n",
       "      <th>angle(Y,gravityMean)</th>\n",
       "      <th>angle(Z,gravityMean)</th>\n",
       "      <th>subject</th>\n",
       "      <th>Activity</th>\n",
       "    </tr>\n",
       "  </thead>\n",
       "  <tbody>\n",
       "    <tr>\n",
       "      <th>0</th>\n",
       "      <td>0.255258</td>\n",
       "      <td>-0.051533</td>\n",
       "      <td>-0.083768</td>\n",
       "      <td>-0.199902</td>\n",
       "      <td>0.394740</td>\n",
       "      <td>-0.374884</td>\n",
       "      <td>-0.225247</td>\n",
       "      <td>0.289441</td>\n",
       "      <td>-0.356663</td>\n",
       "      <td>-0.118184</td>\n",
       "      <td>...</td>\n",
       "      <td>-0.869127</td>\n",
       "      <td>0.014290</td>\n",
       "      <td>-0.338333</td>\n",
       "      <td>-0.996121</td>\n",
       "      <td>-0.666106</td>\n",
       "      <td>-0.760867</td>\n",
       "      <td>0.263355</td>\n",
       "      <td>0.021626</td>\n",
       "      <td>8</td>\n",
       "      <td>WALKING</td>\n",
       "    </tr>\n",
       "    <tr>\n",
       "      <th>1</th>\n",
       "      <td>0.275877</td>\n",
       "      <td>-0.019070</td>\n",
       "      <td>-0.134976</td>\n",
       "      <td>-0.996415</td>\n",
       "      <td>-0.974626</td>\n",
       "      <td>-0.962391</td>\n",
       "      <td>-0.996702</td>\n",
       "      <td>-0.973630</td>\n",
       "      <td>-0.958838</td>\n",
       "      <td>-0.942446</td>\n",
       "      <td>...</td>\n",
       "      <td>-0.916135</td>\n",
       "      <td>-0.013890</td>\n",
       "      <td>-0.218391</td>\n",
       "      <td>0.012162</td>\n",
       "      <td>0.490032</td>\n",
       "      <td>-0.803546</td>\n",
       "      <td>0.229476</td>\n",
       "      <td>0.053515</td>\n",
       "      <td>28</td>\n",
       "      <td>SITTING</td>\n",
       "    </tr>\n",
       "    <tr>\n",
       "      <th>2</th>\n",
       "      <td>0.275889</td>\n",
       "      <td>-0.019306</td>\n",
       "      <td>-0.109075</td>\n",
       "      <td>-0.995904</td>\n",
       "      <td>-0.986940</td>\n",
       "      <td>-0.984073</td>\n",
       "      <td>-0.996516</td>\n",
       "      <td>-0.986130</td>\n",
       "      <td>-0.984043</td>\n",
       "      <td>-0.940218</td>\n",
       "      <td>...</td>\n",
       "      <td>-0.823916</td>\n",
       "      <td>0.093677</td>\n",
       "      <td>-0.295563</td>\n",
       "      <td>0.383444</td>\n",
       "      <td>-0.851732</td>\n",
       "      <td>-0.737762</td>\n",
       "      <td>0.164248</td>\n",
       "      <td>0.193946</td>\n",
       "      <td>23</td>\n",
       "      <td>STANDING</td>\n",
       "    </tr>\n",
       "    <tr>\n",
       "      <th>3</th>\n",
       "      <td>0.244993</td>\n",
       "      <td>-0.016488</td>\n",
       "      <td>-0.104796</td>\n",
       "      <td>-0.284967</td>\n",
       "      <td>0.322228</td>\n",
       "      <td>-0.436234</td>\n",
       "      <td>-0.334029</td>\n",
       "      <td>0.226527</td>\n",
       "      <td>-0.429581</td>\n",
       "      <td>-0.130974</td>\n",
       "      <td>...</td>\n",
       "      <td>-0.672261</td>\n",
       "      <td>0.839361</td>\n",
       "      <td>0.376752</td>\n",
       "      <td>-0.107365</td>\n",
       "      <td>0.214366</td>\n",
       "      <td>-0.782859</td>\n",
       "      <td>0.244063</td>\n",
       "      <td>-0.018298</td>\n",
       "      <td>6</td>\n",
       "      <td>WALKING</td>\n",
       "    </tr>\n",
       "    <tr>\n",
       "      <th>4</th>\n",
       "      <td>0.285473</td>\n",
       "      <td>-0.024408</td>\n",
       "      <td>-0.086753</td>\n",
       "      <td>-0.978880</td>\n",
       "      <td>-0.866417</td>\n",
       "      <td>-0.910604</td>\n",
       "      <td>-0.984322</td>\n",
       "      <td>-0.882104</td>\n",
       "      <td>-0.912848</td>\n",
       "      <td>-0.903619</td>\n",
       "      <td>...</td>\n",
       "      <td>0.020834</td>\n",
       "      <td>-0.099957</td>\n",
       "      <td>-0.017790</td>\n",
       "      <td>-0.241290</td>\n",
       "      <td>0.819461</td>\n",
       "      <td>-0.643430</td>\n",
       "      <td>0.306376</td>\n",
       "      <td>0.150995</td>\n",
       "      <td>21</td>\n",
       "      <td>STANDING</td>\n",
       "    </tr>\n",
       "  </tbody>\n",
       "</table>\n",
       "<p>5 rows × 563 columns</p>\n",
       "</div>"
      ],
      "text/plain": [
       "   tBodyAcc-mean()-X  tBodyAcc-mean()-Y  tBodyAcc-mean()-Z  tBodyAcc-std()-X  \\\n",
       "0           0.255258          -0.051533          -0.083768         -0.199902   \n",
       "1           0.275877          -0.019070          -0.134976         -0.996415   \n",
       "2           0.275889          -0.019306          -0.109075         -0.995904   \n",
       "3           0.244993          -0.016488          -0.104796         -0.284967   \n",
       "4           0.285473          -0.024408          -0.086753         -0.978880   \n",
       "\n",
       "   tBodyAcc-std()-Y  tBodyAcc-std()-Z  tBodyAcc-mad()-X  tBodyAcc-mad()-Y  \\\n",
       "0          0.394740         -0.374884         -0.225247          0.289441   \n",
       "1         -0.974626         -0.962391         -0.996702         -0.973630   \n",
       "2         -0.986940         -0.984073         -0.996516         -0.986130   \n",
       "3          0.322228         -0.436234         -0.334029          0.226527   \n",
       "4         -0.866417         -0.910604         -0.984322         -0.882104   \n",
       "\n",
       "   tBodyAcc-mad()-Z  tBodyAcc-max()-X    ...     \\\n",
       "0         -0.356663         -0.118184    ...      \n",
       "1         -0.958838         -0.942446    ...      \n",
       "2         -0.984043         -0.940218    ...      \n",
       "3         -0.429581         -0.130974    ...      \n",
       "4         -0.912848         -0.903619    ...      \n",
       "\n",
       "   fBodyBodyGyroJerkMag-kurtosis()  angle(tBodyAccMean,gravity)  \\\n",
       "0                        -0.869127                     0.014290   \n",
       "1                        -0.916135                    -0.013890   \n",
       "2                        -0.823916                     0.093677   \n",
       "3                        -0.672261                     0.839361   \n",
       "4                         0.020834                    -0.099957   \n",
       "\n",
       "   angle(tBodyAccJerkMean),gravityMean)  angle(tBodyGyroMean,gravityMean)  \\\n",
       "0                             -0.338333                         -0.996121   \n",
       "1                             -0.218391                          0.012162   \n",
       "2                             -0.295563                          0.383444   \n",
       "3                              0.376752                         -0.107365   \n",
       "4                             -0.017790                         -0.241290   \n",
       "\n",
       "   angle(tBodyGyroJerkMean,gravityMean)  angle(X,gravityMean)  \\\n",
       "0                             -0.666106             -0.760867   \n",
       "1                              0.490032             -0.803546   \n",
       "2                             -0.851732             -0.737762   \n",
       "3                              0.214366             -0.782859   \n",
       "4                              0.819461             -0.643430   \n",
       "\n",
       "   angle(Y,gravityMean)  angle(Z,gravityMean)  subject  Activity  \n",
       "0              0.263355              0.021626        8   WALKING  \n",
       "1              0.229476              0.053515       28   SITTING  \n",
       "2              0.164248              0.193946       23  STANDING  \n",
       "3              0.244063             -0.018298        6   WALKING  \n",
       "4              0.306376              0.150995       21  STANDING  \n",
       "\n",
       "[5 rows x 563 columns]"
      ]
     },
     "execution_count": 5,
     "metadata": {},
     "output_type": "execute_result"
    }
   ],
   "source": [
    "train.head()"
   ]
  },
  {
   "cell_type": "markdown",
   "metadata": {},
   "source": [
    "## データの前処理"
   ]
  },
  {
   "cell_type": "code",
   "execution_count": 6,
   "metadata": {},
   "outputs": [],
   "source": [
    "activity_type = train[\"Activity\"].unique()\n",
    "activity_to_id = dict(zip(activity_type,np.arange(activity_type.shape[0])))"
   ]
  },
  {
   "cell_type": "code",
   "execution_count": 7,
   "metadata": {},
   "outputs": [],
   "source": [
    "# 入力データと正解データに分割\n",
    "train_X = train.drop([\"subject\",\"Activity\"],axis=1)\n",
    "train_Y = train[\"Activity\"].map(lambda x:activity_to_id[x])\n",
    "\n",
    "dev_X = dev.drop([\"subject\",\"Activity\"],axis=1)\n",
    "dev_Y = dev[\"Activity\"].map(lambda x:activity_to_id[x])\n",
    "\n",
    "test_X = test.drop([\"subject\",\"Activity\"],axis=1)\n",
    "test_Y = test[\"Activity\"].map(lambda x:activity_to_id[x])"
   ]
  },
  {
   "cell_type": "code",
   "execution_count": 10,
   "metadata": {},
   "outputs": [],
   "source": [
    "scaler = StandardScaler()"
   ]
  },
  {
   "cell_type": "code",
   "execution_count": 11,
   "metadata": {},
   "outputs": [],
   "source": [
    "# データの正規化\n",
    "train_X_scale = scaler.fit_transform(train_X).astype(np.float32)\n",
    "dev_X_scale = scaler.fit_transform(dev_X).astype(np.float32)\n",
    "test_X_scale = scaler.fit_transform(test_X).astype(np.float32)"
   ]
  },
  {
   "cell_type": "code",
   "execution_count": 12,
   "metadata": {},
   "outputs": [],
   "source": [
    "train_Y = train_Y.values.astype(np.int32)\n",
    "dev_Y = dev_Y.values.astype(np.int32)\n",
    "test_Y = test_Y.values.astype(np.int32)"
   ]
  },
  {
   "cell_type": "markdown",
   "metadata": {},
   "source": [
    "## ミニバッチ用のデータを作成"
   ]
  },
  {
   "cell_type": "code",
   "execution_count": 16,
   "metadata": {},
   "outputs": [],
   "source": [
    "train_dataset = TupleDataset(train_X_scale,train_Y)\n",
    "dev_dataset = TupleDataset(dev_X_scale,dev_Y)\n",
    "test_dataset = TupleDataset(test_X_scale,test_Y)"
   ]
  },
  {
   "cell_type": "code",
   "execution_count": 17,
   "metadata": {},
   "outputs": [],
   "source": [
    "train_iterator = SerialIterator(train_dataset,batch_size = 100 , repeat = True)\n",
    "dev_iterator = SerialIterator(dev_dataset,batch_size = 100,shuffle=False,repeat=False)\n",
    "test_iterator = SerialIterator(test_dataset,batch_size = 100,shuffle=False,repeat=False)"
   ]
  },
  {
   "cell_type": "markdown",
   "metadata": {},
   "source": [
    "## モデルの定義"
   ]
  },
  {
   "cell_type": "code",
   "execution_count": 23,
   "metadata": {},
   "outputs": [],
   "source": [
    "class Model(Chain):\n",
    "    def __init__(self):\n",
    "        super(Model,self).__init__()\n",
    "        with self.init_scope():\n",
    "            self.l1 = L.Linear(561,200)\n",
    "            self.l2 = L.Linear(200,100)\n",
    "            self.l3 = L.Linear(100,70)\n",
    "            self.l4 = L.Linear(70,50)\n",
    "            self.l5 = L.Linear(50,30)\n",
    "            self.l6 = L.Linear(30,20)\n",
    "            self.l7 = L.Linear(20,10)\n",
    "            self.l8 = L.Linear(10,6)\n",
    "    \n",
    "    def __call__(self,x):\n",
    "        h = F.relu(self.l1(x))\n",
    "        h = F.dropout(h,ratio=0.3)\n",
    "        h = F.relu(self.l2(h))\n",
    "        h = F.dropout(h,ratio=0.3)\n",
    "        h = F.relu(self.l3(h))\n",
    "        h = F.dropout(h,ratio=0.3)\n",
    "        h = F.relu(self.l4(h))\n",
    "        h = F.dropout(h,ratio=0.3)\n",
    "        h = F.relu(self.l5(h))\n",
    "        h = F.dropout(h,ratio=0.3)\n",
    "        h = F.relu(self.l6(h))\n",
    "        h = F.dropout(h,ratio=0.3)\n",
    "        h = F.relu(self.l7(h))\n",
    "        h = F.dropout(h,ratio=0.3)\n",
    "        return self.l8(h)"
   ]
  },
  {
   "cell_type": "code",
   "execution_count": 36,
   "metadata": {},
   "outputs": [
    {
     "name": "stdout",
     "output_type": "stream",
     "text": [
      "iteration   main/loss   validation/main/loss  main/accuracy  validation/main/accuracy\n",
      "\u001b[J100         1.54684     1.07656               0.3055         0.498056                  \n",
      "\u001b[J200         1.14238     0.638219              0.4772         0.679444                  \n",
      "\u001b[J300         0.799881    0.414953              0.5959         0.744167                  \n",
      "\u001b[J400         0.641916    0.356515              0.6776         0.804861                  \n",
      "\u001b[J500         0.580426    0.399773              0.7288         0.816389                  \n",
      "\u001b[J600         0.539652    0.309645              0.7521         0.839583                  \n",
      "\u001b[J700         0.516066    0.306324              0.7587         0.822083                  \n",
      "\u001b[J800         0.48975     0.32566               0.7673         0.814583                  \n",
      "\u001b[J900         0.476982    0.283711              0.7713         0.813333                  \n",
      "\u001b[J1000        0.44765     0.359841              0.7788         0.834861                  \n",
      "\u001b[J1100        0.441721    0.270182              0.782          0.848333                  \n",
      "\u001b[J1200        0.416205    0.36121               0.7815         0.832361                  \n",
      "\u001b[J1300        0.392202    0.316303              0.7919         0.828333                  \n",
      "\u001b[J1400        0.46308     0.328249              0.781          0.801111                  \n",
      "\u001b[J1500        0.416654    0.268323              0.7825         0.848333                  \n",
      "\u001b[J1600        0.382941    0.258848              0.786          0.825833                  \n",
      "\u001b[J1700        0.385664    0.274728              0.7975         0.829861                  \n",
      "\u001b[J1800        0.384369    0.271756              0.7909         0.838333                  \n",
      "\u001b[J1900        0.420543    0.297376              0.7798         0.822361                  \n",
      "\u001b[J2000        0.375201    0.285145              0.7941         0.845833                  \n",
      "\u001b[J2100        0.347459    0.246136              0.7994         0.849583                  \n",
      "\u001b[J2200        0.355515    0.264419              0.7996         0.823333                  \n",
      "\u001b[J2300        0.349955    0.30356               0.8011         0.848333                  \n",
      "\u001b[J2400        0.337923    0.241108              0.8016         0.860556                  \n",
      "\u001b[J2500        0.337725    0.238508              0.7963         0.849583                  \n",
      "\u001b[J2600        0.3476      0.242838              0.7973         0.849583                  \n",
      "\u001b[J2700        0.325118    0.23757               0.8052         0.848333                  \n",
      "\u001b[J2800        0.333761    0.298308              0.8006         0.847083                  \n",
      "\u001b[J2900        0.333764    0.245406              0.8015         0.847083                  \n",
      "\u001b[J3000        0.325089    0.368614              0.8019         0.847083                  \n",
      "\u001b[J3100        0.316331    0.244754              0.8096         0.861806                  \n",
      "\u001b[J3200        0.320787    0.276318              0.8053         0.831389                  \n",
      "\u001b[J3300        0.35993     0.260249              0.801          0.842083                  \n",
      "\u001b[J3400        0.345321    0.258487              0.804          0.844861                  \n",
      "\u001b[J3500        0.319102    0.2339                0.8057         0.849583                  \n",
      "\u001b[J3600        0.329886    0.235718              0.8087         0.835833                  \n",
      "\u001b[J3700        0.337527    0.257141              0.8022         0.834861                  \n",
      "\u001b[J3800        0.320918    0.241546              0.8114         0.848333                  \n",
      "\u001b[J3900        0.322295    0.261271              0.8138         0.842361                  \n",
      "\u001b[J4000        0.33841     0.239712              0.8079         0.848333                  \n",
      "\u001b[J4100        0.307852    0.242019              0.8192         0.919306                  \n",
      "\u001b[J4200        0.332322    0.23265               0.8082         0.848333                  \n",
      "\u001b[J4300        0.334409    0.237907              0.8132         0.920556                  \n",
      "\u001b[J4400        0.314158    0.23427               0.8252         0.935278                  \n",
      "\u001b[J4500        0.387484    0.289522              0.8062         0.832361                  \n",
      "\u001b[J4600        0.340584    0.238143              0.8126         0.875833                  \n",
      "\u001b[J4700        0.323245    0.229811              0.8216         0.950278                  \n",
      "\u001b[J4800        0.316409    0.224853              0.8378         0.938333                  \n",
      "\u001b[J4900        0.313664    0.214328              0.8392         0.944306                  \n",
      "\u001b[J5000        0.302112    0.201998              0.8455         0.950278                  \n",
      "\u001b[J5100        0.290428    0.18931               0.8622         0.953333                  \n",
      "\u001b[J5200        0.268336    0.17648               0.8862         0.953056                  \n",
      "\u001b[J5300        0.267449    0.160592              0.9011         0.958056                  \n",
      "\u001b[J5400        0.251658    0.135011              0.9065         0.960556                  \n",
      "\u001b[J5500        0.237119    0.118902              0.9181         0.967778                  \n",
      "\u001b[J5600        0.23615     0.123407              0.9216         0.959306                  \n",
      "\u001b[J5700        0.229524    0.108041              0.923          0.967778                  \n",
      "\u001b[J5800        0.203442    0.124049              0.9339         0.965278                  \n",
      "\u001b[J5900        0.216625    0.0977524             0.9304         0.970278                  \n",
      "\u001b[J6000        0.220528    0.0976481             0.9281         0.971528                  \n",
      "\u001b[J6100        0.20328     0.0930729             0.9402         0.975278                  \n",
      "\u001b[J6200        0.1875      0.0975708             0.9456         0.969028                  \n",
      "\u001b[J6300        0.184419    0.0900839             0.9435         0.969028                  \n",
      "\u001b[J6400        0.17521     0.0764648             0.9477         0.977778                  \n",
      "\u001b[J6500        0.178405    0.100385              0.9492         0.974028                  \n",
      "\u001b[J6600        0.15854     0.0750636             0.9523         0.972778                  \n",
      "\u001b[J6700        0.172499    0.128189              0.9512         0.965556                  \n",
      "\u001b[J6800        0.195862    0.201202              0.9452         0.963056                  \n",
      "\u001b[J6900        0.243936    0.0922685             0.9281         0.969028                  \n",
      "\u001b[J7000        0.184266    0.0767128             0.9442         0.975278                  \n",
      "\u001b[J7100        0.168405    0.0690662             0.9485         0.975278                  \n",
      "\u001b[J7200        0.163965    0.0783029             0.9526         0.98125                   \n",
      "\u001b[J7300        0.160865    0.0684258             0.9518         0.977778                  \n",
      "\u001b[J7400        0.149613    0.0680887             0.9558         0.976528                  \n",
      "\u001b[J7500        0.133775    0.0606603             0.9619         0.976528                  \n",
      "\u001b[J7600        0.150932    0.058584              0.9568         0.98125                   \n",
      "\u001b[J7700        0.161544    0.0583889             0.9589         0.977778                  \n",
      "\u001b[J7800        0.164189    0.0575071             0.947          0.98375                   \n",
      "\u001b[J7900        0.147549    0.0573392             0.9546         0.976528                  \n",
      "\u001b[J8000        0.12992     0.0597295             0.9651         0.98                      \n",
      "\u001b[J8100        0.125853    0.0619614             0.9656         0.975278                  \n",
      "\u001b[J8200        0.12353     0.0581743             0.9649         0.977778                  \n",
      "\u001b[J8300        0.124371    0.0822343             0.963          0.977778                  \n",
      "\u001b[J8400        0.144307    0.0556907             0.9588         0.976528                  \n",
      "\u001b[J8500        0.133322    0.0538977             0.9619         0.980278                  \n",
      "\u001b[J8600        0.176311    0.0623739             0.9549         0.9775                    \n",
      "\u001b[J8700        0.154834    0.0655756             0.956          0.98375                   \n",
      "\u001b[J8800        0.136705    0.0579551             0.9604         0.98                      \n",
      "\u001b[J8900        0.120118    0.0591717             0.9657         0.976528                  \n",
      "\u001b[J9000        0.126707    0.0607428             0.9655         0.976528                  \n"
     ]
    },
    {
     "name": "stdout",
     "output_type": "stream",
     "text": [
      "\u001b[J9100        0.127704    0.0629028             0.9672         0.972778                  \n",
      "\u001b[J9200        0.110342    0.0649937             0.9682         0.977778                  \n",
      "\u001b[J9300        0.110132    0.064665              0.9714         0.977778                  \n",
      "\u001b[J9400        0.110024    0.0612924             0.971          0.9825                    \n",
      "\u001b[J9500        0.114369    0.0732355             0.9685         0.976528                  \n",
      "\u001b[J9600        0.108609    0.0547242             0.9703         0.98375                   \n",
      "\u001b[J9700        0.101277    0.0521758             0.9714         0.985                     \n",
      "\u001b[J9800        0.106342    0.0534177             0.9715         0.98375                   \n",
      "\u001b[J9900        0.184871    0.0582694             0.959          0.980278                  \n"
     ]
    }
   ],
   "source": [
    "model = Model()\n",
    "classifier = L.Classifier(model)\n",
    "optimizer = Adam()\n",
    "optimizer.setup(classifier)\n",
    "updater = StandardUpdater(train_iterator,optimizer,loss_func=classifier)\n",
    "trainer = Trainer(updater,(10000,'iteration'))\n",
    "trainer.extend(Evaluator(dev_iterator, classifier), trigger=(100,'iteration'))\n",
    "trainer.extend(PrintReport(['iteration','main/loss','validation/main/loss','main/accuracy','validation/main/accuracy']))\n",
    "\n",
    "logreport = LogReport(trigger=(100,'iteration'))\n",
    "trainer.extend(logreport)\n",
    "trainer.run()"
   ]
  },
  {
   "cell_type": "code",
   "execution_count": 27,
   "metadata": {},
   "outputs": [
    {
     "data": {
      "text/plain": [
       "<matplotlib.axes._subplots.AxesSubplot at 0x181061dc50>"
      ]
     },
     "execution_count": 27,
     "metadata": {},
     "output_type": "execute_result"
    },
    {
     "data": {
      "image/png": "[encoded data removed]",
      "text/plain": [
       "<matplotlib.figure.Figure at 0x181061dda0>"
      ]
     },
     "metadata": {},
     "output_type": "display_data"
    }
   ],
   "source": [
    "log_df = pd.DataFrame(logreport.log)\n",
    "pd.DataFrame(log_df[[\"main/loss\", \"validation/main/loss\"]].values, columns=[\"main/loss\", \"validation/main/loss\"], index=log_df[\"iteration\"]).plot()"
   ]
  },
  {
   "cell_type": "code",
   "execution_count": 37,
   "metadata": {},
   "outputs": [
    {
     "data": {
      "text/plain": [
       "<matplotlib.axes._subplots.AxesSubplot at 0x181057e470>"
      ]
     },
     "execution_count": 37,
     "metadata": {},
     "output_type": "execute_result"
    },
    {
     "data": {
      "image/png": "[encoded data removed]",
      "text/plain": [
       "<matplotlib.figure.Figure at 0x180d46bac8>"
      ]
     },
     "metadata": {},
     "output_type": "display_data"
    }
   ],
   "source": [
    "log_df = pd.DataFrame(logreport.log)\n",
    "pd.DataFrame(log_df[[\"main/accuracy\", \"validation/main/accuracy\"]].values, columns=[\"main/accuracy\", \"validation/main/accuracy\"], index=log_df[\"iteration\"]).plot()"
   ]
  },
  {
   "cell_type": "markdown",
   "metadata": {},
   "source": [
    "## モデルへのテストデータの当てはめ"
   ]
  },
  {
   "cell_type": "code",
   "execution_count": 29,
   "metadata": {},
   "outputs": [],
   "source": [
    "y = model(test_X_scale)"
   ]
  },
  {
   "cell_type": "code",
   "execution_count": 30,
   "metadata": {},
   "outputs": [],
   "source": [
    "pred = np.argmax(y.data,axis=1)"
   ]
  },
  {
   "cell_type": "markdown",
   "metadata": {},
   "source": [
    "## precision / recall / f1値の算出"
   ]
  },
  {
   "cell_type": "code",
   "execution_count": 31,
   "metadata": {},
   "outputs": [
    {
     "name": "stdout",
     "output_type": "stream",
     "text": [
      "             precision    recall  f1-score   support\n",
      "\n",
      "          0       0.97      0.93      0.95       496\n",
      "          1       0.86      0.93      0.89       491\n",
      "          2       0.94      0.88      0.91       532\n",
      "          3       0.93      0.95      0.94       471\n",
      "          4       0.96      0.97      0.96       537\n",
      "          5       0.92      0.91      0.91       420\n",
      "\n",
      "avg / total       0.93      0.93      0.93      2947\n",
      "\n"
     ]
    }
   ],
   "source": [
    "print(classification_report(test_Y,pred))"
   ]
  },
  {
   "cell_type": "code",
   "execution_count": 32,
   "metadata": {},
   "outputs": [
    {
     "data": {
      "text/html": [
       "<div>\n",
       "<style scoped>\n",
       "    .dataframe tbody tr th:only-of-type {\n",
       "        vertical-align: middle;\n",
       "    }\n",
       "\n",
       "    .dataframe tbody tr th {\n",
       "        vertical-align: top;\n",
       "    }\n",
       "\n",
       "    .dataframe thead th {\n",
       "        text-align: right;\n",
       "    }\n",
       "</style>\n",
       "<table border=\"1\" class=\"dataframe\">\n",
       "  <thead>\n",
       "    <tr style=\"text-align: right;\">\n",
       "      <th>col_0</th>\n",
       "      <th>0</th>\n",
       "      <th>1</th>\n",
       "      <th>2</th>\n",
       "      <th>3</th>\n",
       "      <th>4</th>\n",
       "      <th>5</th>\n",
       "    </tr>\n",
       "    <tr>\n",
       "      <th>row_0</th>\n",
       "      <th></th>\n",
       "      <th></th>\n",
       "      <th></th>\n",
       "      <th></th>\n",
       "      <th></th>\n",
       "      <th></th>\n",
       "    </tr>\n",
       "  </thead>\n",
       "  <tbody>\n",
       "    <tr>\n",
       "      <th>0</th>\n",
       "      <td>462</td>\n",
       "      <td>0</td>\n",
       "      <td>0</td>\n",
       "      <td>11</td>\n",
       "      <td>3</td>\n",
       "      <td>20</td>\n",
       "    </tr>\n",
       "    <tr>\n",
       "      <th>1</th>\n",
       "      <td>0</td>\n",
       "      <td>459</td>\n",
       "      <td>26</td>\n",
       "      <td>2</td>\n",
       "      <td>4</td>\n",
       "      <td>0</td>\n",
       "    </tr>\n",
       "    <tr>\n",
       "      <th>2</th>\n",
       "      <td>0</td>\n",
       "      <td>58</td>\n",
       "      <td>466</td>\n",
       "      <td>0</td>\n",
       "      <td>8</td>\n",
       "      <td>0</td>\n",
       "    </tr>\n",
       "    <tr>\n",
       "      <th>3</th>\n",
       "      <td>6</td>\n",
       "      <td>4</td>\n",
       "      <td>0</td>\n",
       "      <td>447</td>\n",
       "      <td>3</td>\n",
       "      <td>11</td>\n",
       "    </tr>\n",
       "    <tr>\n",
       "      <th>4</th>\n",
       "      <td>0</td>\n",
       "      <td>9</td>\n",
       "      <td>5</td>\n",
       "      <td>1</td>\n",
       "      <td>521</td>\n",
       "      <td>1</td>\n",
       "    </tr>\n",
       "    <tr>\n",
       "      <th>5</th>\n",
       "      <td>10</td>\n",
       "      <td>5</td>\n",
       "      <td>0</td>\n",
       "      <td>20</td>\n",
       "      <td>4</td>\n",
       "      <td>381</td>\n",
       "    </tr>\n",
       "  </tbody>\n",
       "</table>\n",
       "</div>"
      ],
      "text/plain": [
       "col_0    0    1    2    3    4    5\n",
       "row_0                              \n",
       "0      462    0    0   11    3   20\n",
       "1        0  459   26    2    4    0\n",
       "2        0   58  466    0    8    0\n",
       "3        6    4    0  447    3   11\n",
       "4        0    9    5    1  521    1\n",
       "5       10    5    0   20    4  381"
      ]
     },
     "execution_count": 32,
     "metadata": {},
     "output_type": "execute_result"
    }
   ],
   "source": [
    "pd.crosstab(test_Y,pred)"
   ]
  },
  {
   "cell_type": "code",
   "execution_count": 35,
   "metadata": {},
   "outputs": [
    {
     "data": {
      "text/plain": [
       "{'LAYING': 4,\n",
       " 'SITTING': 1,\n",
       " 'STANDING': 2,\n",
       " 'WALKING': 0,\n",
       " 'WALKING_DOWNSTAIRS': 5,\n",
       " 'WALKING_UPSTAIRS': 3}"
      ]
     },
     "execution_count": 35,
     "metadata": {},
     "output_type": "execute_result"
    }
   ],
   "source": [
    "activity_to_id"
   ]
  },
  {
   "cell_type": "markdown",
   "metadata": {},
   "source": [
    "- 2:STANDINGを1:SITTINGと誤って判断している場合が多い"
   ]
  },
  {
   "cell_type": "code",
   "execution_count": null,
   "metadata": {},
   "outputs": [],
   "source": []
  }
 ],
 "metadata": {
  "kernelspec": {
   "display_name": "Python 3",
   "language": "python",
   "name": "python3"
  },
  "language_info": {
   "codemirror_mode": {
    "name": "ipython",
    "version": 3
   },
   "file_extension": ".py",
   "mimetype": "text/x-python",
   "name": "python",
   "nbconvert_exporter": "python",
   "pygments_lexer": "ipython3",
   "version": "3.6.4"
  }
 },
 "nbformat": 4,
 "nbformat_minor": 2
}
